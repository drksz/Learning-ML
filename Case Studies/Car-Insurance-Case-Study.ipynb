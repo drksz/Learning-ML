{
 "cells": [
  {
   "cell_type": "markdown",
   "id": "526de6f0",
   "metadata": {},
   "source": [
    "# Case Study: Modeling Car Insurance Claims"
   ]
  },
  {
   "cell_type": "markdown",
   "id": "e5b81809",
   "metadata": {},
   "source": [
    "### Tasks\n",
    "- Identify the single feature of the data that is the best predictor of whether a customer will put in a claim (the `outcome` column), excluding the `id` column.\n",
    "- Store as a DataFrame called `best_feature_df`, containing columns named `best_feature` and `best_accuracy` with the name of the feature with the highest accuracy, and the respective accuracy score."
   ]
  },
  {
   "cell_type": "code",
   "execution_count": 250,
   "id": "f1f767b4",
   "metadata": {},
   "outputs": [],
   "source": [
    "import pandas as pd\n",
    "import numpy as np \n",
    "from statsmodels.formula.api import logit\n",
    "import matplotlib.pyplot as plt\n",
    "import seaborn as sns"
   ]
  },
  {
   "cell_type": "code",
   "execution_count": 251,
   "id": "6bf56a53",
   "metadata": {},
   "outputs": [
    {
     "data": {
      "text/html": [
       "<div>\n",
       "<style scoped>\n",
       "    .dataframe tbody tr th:only-of-type {\n",
       "        vertical-align: middle;\n",
       "    }\n",
       "\n",
       "    .dataframe tbody tr th {\n",
       "        vertical-align: top;\n",
       "    }\n",
       "\n",
       "    .dataframe thead th {\n",
       "        text-align: right;\n",
       "    }\n",
       "</style>\n",
       "<table border=\"1\" class=\"dataframe\">\n",
       "  <thead>\n",
       "    <tr style=\"text-align: right;\">\n",
       "      <th></th>\n",
       "      <th>id</th>\n",
       "      <th>age</th>\n",
       "      <th>gender</th>\n",
       "      <th>driving_experience</th>\n",
       "      <th>education</th>\n",
       "      <th>income</th>\n",
       "      <th>credit_score</th>\n",
       "      <th>vehicle_ownership</th>\n",
       "      <th>vehicle_year</th>\n",
       "      <th>married</th>\n",
       "      <th>children</th>\n",
       "      <th>postal_code</th>\n",
       "      <th>annual_mileage</th>\n",
       "      <th>vehicle_type</th>\n",
       "      <th>speeding_violations</th>\n",
       "      <th>duis</th>\n",
       "      <th>past_accidents</th>\n",
       "      <th>outcome</th>\n",
       "    </tr>\n",
       "  </thead>\n",
       "  <tbody>\n",
       "    <tr>\n",
       "      <th>0</th>\n",
       "      <td>569520</td>\n",
       "      <td>3</td>\n",
       "      <td>0</td>\n",
       "      <td>0-9y</td>\n",
       "      <td>high school</td>\n",
       "      <td>upper class</td>\n",
       "      <td>0.629027</td>\n",
       "      <td>1.0</td>\n",
       "      <td>after 2015</td>\n",
       "      <td>0.0</td>\n",
       "      <td>1.0</td>\n",
       "      <td>10238</td>\n",
       "      <td>12000.0</td>\n",
       "      <td>sedan</td>\n",
       "      <td>0</td>\n",
       "      <td>0</td>\n",
       "      <td>0</td>\n",
       "      <td>0.0</td>\n",
       "    </tr>\n",
       "    <tr>\n",
       "      <th>1</th>\n",
       "      <td>750365</td>\n",
       "      <td>0</td>\n",
       "      <td>1</td>\n",
       "      <td>0-9y</td>\n",
       "      <td>none</td>\n",
       "      <td>poverty</td>\n",
       "      <td>0.357757</td>\n",
       "      <td>0.0</td>\n",
       "      <td>before 2015</td>\n",
       "      <td>0.0</td>\n",
       "      <td>0.0</td>\n",
       "      <td>10238</td>\n",
       "      <td>16000.0</td>\n",
       "      <td>sedan</td>\n",
       "      <td>0</td>\n",
       "      <td>0</td>\n",
       "      <td>0</td>\n",
       "      <td>1.0</td>\n",
       "    </tr>\n",
       "    <tr>\n",
       "      <th>2</th>\n",
       "      <td>199901</td>\n",
       "      <td>0</td>\n",
       "      <td>0</td>\n",
       "      <td>0-9y</td>\n",
       "      <td>high school</td>\n",
       "      <td>working class</td>\n",
       "      <td>0.493146</td>\n",
       "      <td>1.0</td>\n",
       "      <td>before 2015</td>\n",
       "      <td>0.0</td>\n",
       "      <td>0.0</td>\n",
       "      <td>10238</td>\n",
       "      <td>11000.0</td>\n",
       "      <td>sedan</td>\n",
       "      <td>0</td>\n",
       "      <td>0</td>\n",
       "      <td>0</td>\n",
       "      <td>0.0</td>\n",
       "    </tr>\n",
       "    <tr>\n",
       "      <th>3</th>\n",
       "      <td>478866</td>\n",
       "      <td>0</td>\n",
       "      <td>1</td>\n",
       "      <td>0-9y</td>\n",
       "      <td>university</td>\n",
       "      <td>working class</td>\n",
       "      <td>0.206013</td>\n",
       "      <td>1.0</td>\n",
       "      <td>before 2015</td>\n",
       "      <td>0.0</td>\n",
       "      <td>1.0</td>\n",
       "      <td>32765</td>\n",
       "      <td>11000.0</td>\n",
       "      <td>sedan</td>\n",
       "      <td>0</td>\n",
       "      <td>0</td>\n",
       "      <td>0</td>\n",
       "      <td>0.0</td>\n",
       "    </tr>\n",
       "    <tr>\n",
       "      <th>4</th>\n",
       "      <td>731664</td>\n",
       "      <td>1</td>\n",
       "      <td>1</td>\n",
       "      <td>10-19y</td>\n",
       "      <td>none</td>\n",
       "      <td>working class</td>\n",
       "      <td>0.388366</td>\n",
       "      <td>1.0</td>\n",
       "      <td>before 2015</td>\n",
       "      <td>0.0</td>\n",
       "      <td>0.0</td>\n",
       "      <td>32765</td>\n",
       "      <td>12000.0</td>\n",
       "      <td>sedan</td>\n",
       "      <td>2</td>\n",
       "      <td>0</td>\n",
       "      <td>1</td>\n",
       "      <td>1.0</td>\n",
       "    </tr>\n",
       "  </tbody>\n",
       "</table>\n",
       "</div>"
      ],
      "text/plain": [
       "       id  age  gender driving_experience    education         income  \\\n",
       "0  569520    3       0               0-9y  high school    upper class   \n",
       "1  750365    0       1               0-9y         none        poverty   \n",
       "2  199901    0       0               0-9y  high school  working class   \n",
       "3  478866    0       1               0-9y   university  working class   \n",
       "4  731664    1       1             10-19y         none  working class   \n",
       "\n",
       "   credit_score  vehicle_ownership vehicle_year  married  children  \\\n",
       "0      0.629027                1.0   after 2015      0.0       1.0   \n",
       "1      0.357757                0.0  before 2015      0.0       0.0   \n",
       "2      0.493146                1.0  before 2015      0.0       0.0   \n",
       "3      0.206013                1.0  before 2015      0.0       1.0   \n",
       "4      0.388366                1.0  before 2015      0.0       0.0   \n",
       "\n",
       "   postal_code  annual_mileage vehicle_type  speeding_violations  duis  \\\n",
       "0        10238         12000.0        sedan                    0     0   \n",
       "1        10238         16000.0        sedan                    0     0   \n",
       "2        10238         11000.0        sedan                    0     0   \n",
       "3        32765         11000.0        sedan                    0     0   \n",
       "4        32765         12000.0        sedan                    2     0   \n",
       "\n",
       "   past_accidents  outcome  \n",
       "0               0      0.0  \n",
       "1               0      1.0  \n",
       "2               0      0.0  \n",
       "3               0      0.0  \n",
       "4               1      1.0  "
      ]
     },
     "execution_count": 251,
     "metadata": {},
     "output_type": "execute_result"
    }
   ],
   "source": [
    "car_insurance = pd.read_csv('../Data/car_insurance.csv')\n",
    "car_insurance.head()"
   ]
  },
  {
   "cell_type": "code",
   "execution_count": 252,
   "id": "a3a09906",
   "metadata": {},
   "outputs": [
    {
     "name": "stdout",
     "output_type": "stream",
     "text": [
      "<class 'pandas.core.frame.DataFrame'>\n",
      "RangeIndex: 10000 entries, 0 to 9999\n",
      "Data columns (total 18 columns):\n",
      " #   Column               Non-Null Count  Dtype  \n",
      "---  ------               --------------  -----  \n",
      " 0   id                   10000 non-null  int64  \n",
      " 1   age                  10000 non-null  int64  \n",
      " 2   gender               10000 non-null  int64  \n",
      " 3   driving_experience   10000 non-null  object \n",
      " 4   education            10000 non-null  object \n",
      " 5   income               10000 non-null  object \n",
      " 6   credit_score         9018 non-null   float64\n",
      " 7   vehicle_ownership    10000 non-null  float64\n",
      " 8   vehicle_year         10000 non-null  object \n",
      " 9   married              10000 non-null  float64\n",
      " 10  children             10000 non-null  float64\n",
      " 11  postal_code          10000 non-null  int64  \n",
      " 12  annual_mileage       9043 non-null   float64\n",
      " 13  vehicle_type         10000 non-null  object \n",
      " 14  speeding_violations  10000 non-null  int64  \n",
      " 15  duis                 10000 non-null  int64  \n",
      " 16  past_accidents       10000 non-null  int64  \n",
      " 17  outcome              10000 non-null  float64\n",
      "dtypes: float64(6), int64(7), object(5)\n",
      "memory usage: 1.4+ MB\n"
     ]
    }
   ],
   "source": [
    "car_insurance.info()"
   ]
  },
  {
   "cell_type": "code",
   "execution_count": 268,
   "id": "25f47fba",
   "metadata": {},
   "outputs": [],
   "source": [
    "# Imputation for 'annual_mileage' and 'credit_score' using median values\n",
    "car_insurance['annual_mileage'] = car_insurance['annual_mileage'].fillna(\n",
    "    car_insurance['annual_mileage'].median()\n",
    ")\n",
    "car_insurance['credit_score'] = car_insurance['credit_score'].fillna(\n",
    "    car_insurance['credit_score'].median()\n",
    ")"
   ]
  },
  {
   "cell_type": "code",
   "execution_count": 254,
   "id": "390f6b5f",
   "metadata": {},
   "outputs": [
    {
     "data": {
      "text/plain": [
       "id                       int64\n",
       "age                      int64\n",
       "gender                   int64\n",
       "driving_experience      object\n",
       "education               object\n",
       "income                  object\n",
       "credit_score           float64\n",
       "vehicle_ownership      float64\n",
       "vehicle_year            object\n",
       "married                float64\n",
       "children               float64\n",
       "postal_code              int64\n",
       "annual_mileage         float64\n",
       "vehicle_type            object\n",
       "speeding_violations      int64\n",
       "duis                     int64\n",
       "past_accidents           int64\n",
       "outcome                float64\n",
       "dtype: object"
      ]
     },
     "execution_count": 254,
     "metadata": {},
     "output_type": "execute_result"
    }
   ],
   "source": [
    "car_insurance.dtypes"
   ]
  },
  {
   "cell_type": "code",
   "execution_count": 255,
   "id": "f680604b",
   "metadata": {},
   "outputs": [
    {
     "data": {
      "text/plain": [
       "11"
      ]
     },
     "execution_count": 255,
     "metadata": {},
     "output_type": "execute_result"
    }
   ],
   "source": [
    "predictors_list = [\n",
    "    'age',\n",
    "    'gender',\n",
    "    'credit_score',\n",
    "    'vehicle_ownership',\n",
    "    'children',\n",
    "    'annual_mileage',\n",
    "    'vehicle_type',\n",
    "    'speeding_violations',\n",
    "    'duis',\n",
    "    'past_accidents',\n",
    "    'driving_experience'\n",
    "]\n",
    "\n",
    "len(predictors_list)"
   ]
  },
  {
   "cell_type": "code",
   "execution_count": 256,
   "id": "32490fcd",
   "metadata": {},
   "outputs": [],
   "source": [
    "#for col in predictors_list:\n",
    "   #car_insurance[col] = pd.to_numeric(car_insurance[col], errors='coerce')\n"
   ]
  },
  {
   "cell_type": "code",
   "execution_count": 257,
   "id": "fc1b1a9e",
   "metadata": {},
   "outputs": [
    {
     "data": {
      "image/png": "[encoded data removed]",
      "text/plain": [
       "<Figure size 1200x500 with 9 Axes>"
      ]
     },
     "metadata": {},
     "output_type": "display_data"
    }
   ],
   "source": [
    "fig, ax = plt.subplots(3, 3, figsize=(12, 5))\n",
    "ax = ax.flatten()   # Flattening allows 1D indexing for n-dimensional ax array\n",
    "\n",
    "plt_predict = predictors_list.copy()\n",
    "plt_predict.remove('vehicle_type')\n",
    "plt_predict.remove('driving_experience')\n",
    "\n",
    "for i, pred in enumerate(plt_predict):\n",
    "    sns.regplot(\n",
    "        x=pred,\n",
    "        y='outcome',\n",
    "        data=car_insurance,\n",
    "        logistic=True,\n",
    "        ci=None,\n",
    "        ax=ax[i]\n",
    "    )\n",
    "\n",
    "plt.tight_layout()\n",
    "plt.show()"
   ]
  },
  {
   "cell_type": "code",
   "execution_count": 258,
   "id": "07c06c19",
   "metadata": {},
   "outputs": [
    {
     "name": "stdout",
     "output_type": "stream",
     "text": [
      "['age', 'gender', 'credit_score', 'vehicle_ownership', 'children', 'annual_mileage', 'vehicle_type', 'speeding_violations', 'duis', 'past_accidents', 'driving_experience']\n"
     ]
    },
    {
     "data": {
      "text/plain": [
       "11"
      ]
     },
     "execution_count": 258,
     "metadata": {},
     "output_type": "execute_result"
    }
   ],
   "source": [
    "print(predictors_list)\n",
    "len(predictors_list)"
   ]
  },
  {
   "cell_type": "code",
   "execution_count": 259,
   "id": "c4f16aa9",
   "metadata": {},
   "outputs": [
    {
     "name": "stdout",
     "output_type": "stream",
     "text": [
      "Optimization terminated successfully.\n",
      "         Current function value: 0.511794\n",
      "         Iterations 6\n",
      "Optimization terminated successfully.\n",
      "         Current function value: 0.615951\n",
      "         Iterations 5\n",
      "Optimization terminated successfully.\n",
      "         Current function value: 0.572557\n",
      "         Iterations 6\n",
      "Optimization terminated successfully.\n",
      "         Current function value: 0.552412\n",
      "         Iterations 5\n",
      "Optimization terminated successfully.\n",
      "         Current function value: 0.595431\n",
      "         Iterations 5\n",
      "Optimization terminated successfully.\n",
      "         Current function value: 0.621700\n",
      "         Iterations 5\n",
      "Optimization terminated successfully.\n",
      "         Current function value: 0.558922\n",
      "         Iterations 7\n",
      "Optimization terminated successfully.\n",
      "         Current function value: 0.598699\n",
      "         Iterations 6\n",
      "Optimization terminated successfully.\n",
      "         Current function value: 0.549220\n",
      "         Iterations 7\n",
      "Optimization terminated successfully.\n",
      "         Current function value: 0.605716\n",
      "         Iterations 5\n",
      "Optimization terminated successfully.\n",
      "         Current function value: 0.467092\n",
      "         Iterations 8\n"
     ]
    }
   ],
   "source": [
    "age_mdl = logit('outcome ~ age', data=car_insurance).fit()\n",
    "gender_mdl = logit('outcome ~ gender', data=car_insurance).fit()\n",
    "credit_mdl = logit('outcome ~ credit_score', data=car_insurance).fit()\n",
    "owner_mdl = logit('outcome ~ vehicle_ownership', data=car_insurance).fit()\n",
    "n_child_mdl = logit('outcome ~ children', data=car_insurance).fit()\n",
    "vtype_mdl = logit('outcome ~ vehicle_type', data=car_insurance).fit()\n",
    "spd_mdl = logit('outcome ~ speeding_violations', data=car_insurance).fit()\n",
    "dui_mdl = logit('outcome ~ duis', data=car_insurance).fit()\n",
    "accident_mdl = logit('outcome ~ past_accidents', data=car_insurance).fit()\n",
    "mileage_mdl = logit('outcome ~ annual_mileage', data=car_insurance).fit()\n",
    "experience_mdl = logit('outcome ~ driving_experience', data=car_insurance).fit()\n",
    "\n",
    "mdl_list = [\n",
    "    spd_mdl,\n",
    "    dui_mdl,\n",
    "    accident_mdl,\n",
    "    mileage_mdl,\n",
    "    age_mdl,\n",
    "    gender_mdl,\n",
    "    credit_mdl,\n",
    "    owner_mdl,\n",
    "    n_child_mdl,\n",
    "    vtype_mdl,\n",
    "    experience_mdl\n",
    "]\n"
   ]
  },
  {
   "cell_type": "code",
   "execution_count": 260,
   "id": "3f40fe6c",
   "metadata": {},
   "outputs": [
    {
     "name": "stdout",
     "output_type": "stream",
     "text": [
      "Confusion Matrix for age:\n",
      "\n",
      "outcome_actual  outcome_predict\n",
      "0.0             0.0                6867\n",
      "1.0             0.0                3133\n",
      "Name: count, dtype: int64\n",
      "\n",
      "\n",
      "\n",
      "Confusion Matrix for gender:\n",
      "\n",
      "outcome_actual  outcome_predict\n",
      "0.0             0.0                6867\n",
      "1.0             0.0                3133\n",
      "Name: count, dtype: int64\n",
      "\n",
      "\n",
      "\n",
      "Confusion Matrix for credit_score:\n",
      "\n",
      "outcome_actual  outcome_predict\n",
      "0.0             0.0                6867\n",
      "1.0             0.0                3133\n",
      "Name: count, dtype: int64\n",
      "\n",
      "\n",
      "\n",
      "Confusion Matrix for vehicle_ownership:\n",
      "\n",
      "outcome_actual  outcome_predict\n",
      "0.0             0.0                6801\n",
      "                1.0                  66\n",
      "1.0             0.0                3030\n",
      "                1.0                 103\n",
      "Name: count, dtype: int64\n",
      "\n",
      "\n",
      "\n",
      "Confusion Matrix for children:\n",
      "\n",
      "outcome_actual  outcome_predict\n",
      "0.0             0.0                6299\n",
      "                1.0                 568\n",
      "1.0             0.0                1685\n",
      "                1.0                1448\n",
      "Name: count, dtype: int64\n",
      "\n",
      "\n",
      "\n",
      "Confusion Matrix for annual_mileage:\n",
      "\n",
      "outcome_actual  outcome_predict\n",
      "0.0             0.0                6867\n",
      "1.0             0.0                3133\n",
      "Name: count, dtype: int64\n",
      "\n",
      "\n",
      "\n",
      "Confusion Matrix for vehicle_type:\n",
      "\n",
      "outcome_actual  outcome_predict\n",
      "0.0             0.0                6321\n",
      "                1.0                 546\n",
      "1.0             0.0                2400\n",
      "                1.0                 733\n",
      "Name: count, dtype: int64\n",
      "\n",
      "\n",
      "\n",
      "Confusion Matrix for speeding_violations:\n",
      "\n",
      "outcome_actual  outcome_predict\n",
      "0.0             0.0                5594\n",
      "                1.0                1273\n",
      "1.0             0.0                1376\n",
      "                1.0                1757\n",
      "Name: count, dtype: int64\n",
      "\n",
      "\n",
      "\n",
      "Confusion Matrix for duis:\n",
      "\n",
      "outcome_actual  outcome_predict\n",
      "0.0             0.0                6867\n",
      "1.0             0.0                3133\n",
      "Name: count, dtype: int64\n",
      "\n",
      "\n",
      "\n",
      "Confusion Matrix for past_accidents:\n",
      "\n",
      "outcome_actual  outcome_predict\n",
      "0.0             0.0                6867\n",
      "1.0             0.0                3133\n",
      "Name: count, dtype: int64\n",
      "\n",
      "\n",
      "\n",
      "Confusion Matrix for driving_experience:\n",
      "\n",
      "outcome_actual  outcome_predict\n",
      "0.0             0.0                5554\n",
      "                1.0                1313\n",
      "1.0             0.0                 916\n",
      "                1.0                2217\n",
      "Name: count, dtype: int64\n",
      "\n",
      "\n",
      "\n"
     ]
    }
   ],
   "source": [
    "actual_outcome = car_insurance['outcome']\n",
    "\n",
    "mdl_pred_list = [np.round(mdl.predict()) for mdl in mdl_list]\n",
    "\n",
    "\n",
    "for var, mdl in zip(predictors_list, mdl_pred_list):\n",
    "    \n",
    "    print(f'Confusion Matrix for {var}:\\n')\n",
    "\n",
    "    outcome_df = pd.DataFrame({\n",
    "        'outcome_actual':actual_outcome,\n",
    "        'outcome_predict': mdl\n",
    "    })\n",
    "\n",
    "    print(outcome_df.value_counts(sort=False))\n",
    "    print('\\n\\n')\n",
    "\n"
   ]
  },
  {
   "cell_type": "code",
   "execution_count": 261,
   "id": "2a1653ad",
   "metadata": {},
   "outputs": [
    {
     "data": {
      "text/plain": [
       "11"
      ]
     },
     "execution_count": 261,
     "metadata": {},
     "output_type": "execute_result"
    }
   ],
   "source": [
    "len(mdl_pred_list)"
   ]
  },
  {
   "cell_type": "code",
   "execution_count": 262,
   "id": "872c069f",
   "metadata": {},
   "outputs": [
    {
     "name": "stdout",
     "output_type": "stream",
     "text": [
      "age logit model accuracy : 68.67 %\n",
      "gender logit model accuracy : 68.67 %\n",
      "credit_score logit model accuracy : 68.67 %\n",
      "vehicle_ownership logit model accuracy : 69.04 %\n",
      "children logit model accuracy : 77.47 %\n",
      "annual_mileage logit model accuracy : 68.67 %\n",
      "vehicle_type logit model accuracy : 70.54 %\n",
      "speeding_violations logit model accuracy : 73.51 %\n",
      "duis logit model accuracy : 68.67 %\n",
      "past_accidents logit model accuracy : 68.67 %\n",
      "driving_experience logit model accuracy : 77.71 %\n"
     ]
    }
   ],
   "source": [
    "mdl_accuracies_dict = {}\n",
    "\n",
    "for mdl, pred_name in zip(mdl_list, predictors_list):\n",
    "    \n",
    "    conf_matrix = mdl.pred_table()\n",
    "    tn = conf_matrix[0, 0]\n",
    "    fp = conf_matrix[0, 1]\n",
    "    fn = conf_matrix[1, 0]\n",
    "    tp = conf_matrix[1, 1]\n",
    "\n",
    "    mdl_accuracy = round(( (tn + tp) / (tn + fp + fn + tp) ) * 100, 2)\n",
    "    print(f'{pred_name} logit model accuracy : {mdl_accuracy} %')\n",
    "\n",
    "    mdl_accuracies_dict[pred_name] = mdl_accuracy\n",
    "\n"
   ]
  },
  {
   "cell_type": "code",
   "execution_count": 263,
   "id": "a42d43e2",
   "metadata": {},
   "outputs": [
    {
     "data": {
      "text/plain": [
       "{'age': 68.67,\n",
       " 'gender': 68.67,\n",
       " 'credit_score': 68.67,\n",
       " 'vehicle_ownership': 69.04,\n",
       " 'children': 77.47,\n",
       " 'annual_mileage': 68.67,\n",
       " 'vehicle_type': 70.54,\n",
       " 'speeding_violations': 73.51,\n",
       " 'duis': 68.67,\n",
       " 'past_accidents': 68.67,\n",
       " 'driving_experience': 77.71}"
      ]
     },
     "execution_count": 263,
     "metadata": {},
     "output_type": "execute_result"
    }
   ],
   "source": [
    "mdl_accuracies_dict"
   ]
  },
  {
   "cell_type": "code",
   "execution_count": 264,
   "id": "3893dfce",
   "metadata": {},
   "outputs": [
    {
     "name": "stdout",
     "output_type": "stream",
     "text": [
      "driving_experience\n",
      "77.71\n"
     ]
    }
   ],
   "source": [
    "max_key = max(mdl_accuracies_dict, key=mdl_accuracies_dict.get)\n",
    "print(max_key)\n",
    "print(max(mdl_accuracies_dict.values()))"
   ]
  },
  {
   "cell_type": "code",
   "execution_count": 272,
   "id": "f6d2154f",
   "metadata": {},
   "outputs": [
    {
     "data": {
      "text/html": [
       "<div>\n",
       "<style scoped>\n",
       "    .dataframe tbody tr th:only-of-type {\n",
       "        vertical-align: middle;\n",
       "    }\n",
       "\n",
       "    .dataframe tbody tr th {\n",
       "        vertical-align: top;\n",
       "    }\n",
       "\n",
       "    .dataframe thead th {\n",
       "        text-align: right;\n",
       "    }\n",
       "</style>\n",
       "<table border=\"1\" class=\"dataframe\">\n",
       "  <thead>\n",
       "    <tr style=\"text-align: right;\">\n",
       "      <th></th>\n",
       "      <th>best_feature</th>\n",
       "      <th>best_accuracy</th>\n",
       "    </tr>\n",
       "  </thead>\n",
       "  <tbody>\n",
       "    <tr>\n",
       "      <th>0</th>\n",
       "      <td>driving_experience</td>\n",
       "      <td>77.71</td>\n",
       "    </tr>\n",
       "  </tbody>\n",
       "</table>\n",
       "</div>"
      ],
      "text/plain": [
       "         best_feature  best_accuracy\n",
       "0  driving_experience          77.71"
      ]
     },
     "execution_count": 272,
     "metadata": {},
     "output_type": "execute_result"
    }
   ],
   "source": [
    "best_feature_df = pd.DataFrame({\n",
    "    'best_feature':['driving_experience'],\n",
    "    'best_accuracy':[mdl_accuracies_dict.get('driving_experience')]\n",
    "})\n",
    "\n",
    "best_feature_df"
   ]
  }
 ],
 "metadata": {
  "kernelspec": {
   "display_name": "base",
   "language": "python",
   "name": "python3"
  },
  "language_info": {
   "codemirror_mode": {
    "name": "ipython",
    "version": 3
   },
   "file_extension": ".py",
   "mimetype": "text/x-python",
   "name": "python",
   "nbconvert_exporter": "python",
   "pygments_lexer": "ipython3",
   "version": "3.12.7"
  }
 },
 "nbformat": 4,
 "nbformat_minor": 5
}
