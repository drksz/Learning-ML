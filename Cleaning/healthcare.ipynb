{
 "cells": [
  {
   "cell_type": "code",
   "execution_count": 2,
   "id": "14859401",
   "metadata": {},
   "outputs": [],
   "source": [
    "import pandas as pd\n",
    "import numpy as np"
   ]
  },
  {
   "cell_type": "code",
   "execution_count": 3,
   "id": "69a1799c",
   "metadata": {},
   "outputs": [
    {
     "data": {
      "text/html": [
       "<div>\n",
       "<style scoped>\n",
       "    .dataframe tbody tr th:only-of-type {\n",
       "        vertical-align: middle;\n",
       "    }\n",
       "\n",
       "    .dataframe tbody tr th {\n",
       "        vertical-align: top;\n",
       "    }\n",
       "\n",
       "    .dataframe thead th {\n",
       "        text-align: right;\n",
       "    }\n",
       "</style>\n",
       "<table border=\"1\" class=\"dataframe\">\n",
       "  <thead>\n",
       "    <tr style=\"text-align: right;\">\n",
       "      <th></th>\n",
       "      <th>Patient Name</th>\n",
       "      <th>Age</th>\n",
       "      <th>Gender</th>\n",
       "      <th>Condition</th>\n",
       "      <th>Medication</th>\n",
       "      <th>Visit Date</th>\n",
       "      <th>Blood Pressure</th>\n",
       "      <th>Cholesterol</th>\n",
       "      <th>Email</th>\n",
       "      <th>Phone Number</th>\n",
       "    </tr>\n",
       "  </thead>\n",
       "  <tbody>\n",
       "    <tr>\n",
       "      <th>0</th>\n",
       "      <td>david lee</td>\n",
       "      <td>25</td>\n",
       "      <td>Other</td>\n",
       "      <td>Heart Disease</td>\n",
       "      <td>METFORMIN</td>\n",
       "      <td>01/15/2020</td>\n",
       "      <td>140/90</td>\n",
       "      <td>200.0</td>\n",
       "      <td>name@hospital.org</td>\n",
       "      <td>555-555-5555</td>\n",
       "    </tr>\n",
       "    <tr>\n",
       "      <th>1</th>\n",
       "      <td>emily davis</td>\n",
       "      <td>NaN</td>\n",
       "      <td>Male</td>\n",
       "      <td>Diabetes</td>\n",
       "      <td>NONE</td>\n",
       "      <td>April 5, 2018</td>\n",
       "      <td>120/80</td>\n",
       "      <td>200.0</td>\n",
       "      <td>NaN</td>\n",
       "      <td>NaN</td>\n",
       "    </tr>\n",
       "    <tr>\n",
       "      <th>2</th>\n",
       "      <td>laura martinez</td>\n",
       "      <td>35</td>\n",
       "      <td>Other</td>\n",
       "      <td>Asthma</td>\n",
       "      <td>METFORMIN</td>\n",
       "      <td>2019.12.01</td>\n",
       "      <td>110/70</td>\n",
       "      <td>160.0</td>\n",
       "      <td>contact@domain.com</td>\n",
       "      <td>NaN</td>\n",
       "    </tr>\n",
       "    <tr>\n",
       "      <th>3</th>\n",
       "      <td>michael wilson</td>\n",
       "      <td>NaN</td>\n",
       "      <td>Male</td>\n",
       "      <td>Diabetes</td>\n",
       "      <td>ALBUTEROL</td>\n",
       "      <td>01/15/2020</td>\n",
       "      <td>110/70</td>\n",
       "      <td>NaN</td>\n",
       "      <td>name@hospital.org</td>\n",
       "      <td>555-555-5555</td>\n",
       "    </tr>\n",
       "    <tr>\n",
       "      <th>4</th>\n",
       "      <td>david lee</td>\n",
       "      <td>NaN</td>\n",
       "      <td>Female</td>\n",
       "      <td>Asthma</td>\n",
       "      <td>NONE</td>\n",
       "      <td>2020/02/20</td>\n",
       "      <td>110/70</td>\n",
       "      <td>180.0</td>\n",
       "      <td>NaN</td>\n",
       "      <td></td>\n",
       "    </tr>\n",
       "  </tbody>\n",
       "</table>\n",
       "</div>"
      ],
      "text/plain": [
       "       Patient Name  Age  Gender      Condition Medication     Visit Date  \\\n",
       "0        david lee    25   Other  Heart Disease  METFORMIN     01/15/2020   \n",
       "1      emily davis   NaN    Male       Diabetes       NONE  April 5, 2018   \n",
       "2   laura martinez    35   Other         Asthma  METFORMIN     2019.12.01   \n",
       "3   michael wilson   NaN    Male       Diabetes  ALBUTEROL     01/15/2020   \n",
       "4        david lee   NaN  Female         Asthma       NONE     2020/02/20   \n",
       "\n",
       "  Blood Pressure  Cholesterol               Email  Phone Number  \n",
       "0         140/90        200.0   name@hospital.org  555-555-5555  \n",
       "1         120/80        200.0                 NaN           NaN  \n",
       "2         110/70        160.0  contact@domain.com           NaN  \n",
       "3         110/70          NaN   name@hospital.org  555-555-5555  \n",
       "4         110/70        180.0                 NaN                "
      ]
     },
     "execution_count": 3,
     "metadata": {},
     "output_type": "execute_result"
    }
   ],
   "source": [
    "health = pd.read_csv(\"../Data/healthcare_messy_data.csv\")\n",
    "health.head()"
   ]
  },
  {
   "cell_type": "code",
   "execution_count": 4,
   "id": "d392cb66",
   "metadata": {},
   "outputs": [
    {
     "name": "stdout",
     "output_type": "stream",
     "text": [
      "<class 'pandas.core.frame.DataFrame'>\n",
      "RangeIndex: 1000 entries, 0 to 999\n",
      "Data columns (total 10 columns):\n",
      " #   Column          Non-Null Count  Dtype  \n",
      "---  ------          --------------  -----  \n",
      " 0   Patient Name    1000 non-null   object \n",
      " 1   Age             841 non-null    object \n",
      " 2   Gender          1000 non-null   object \n",
      " 3   Condition       794 non-null    object \n",
      " 4   Medication      1000 non-null   object \n",
      " 5   Visit Date      1000 non-null   object \n",
      " 6   Blood Pressure  834 non-null    object \n",
      " 7   Cholesterol     769 non-null    float64\n",
      " 8   Email           616 non-null    object \n",
      " 9   Phone Number    821 non-null    object \n",
      "dtypes: float64(1), object(9)\n",
      "memory usage: 78.3+ KB\n"
     ]
    }
   ],
   "source": [
    "health.info()"
   ]
  },
  {
   "cell_type": "code",
   "execution_count": 8,
   "id": "22458b86",
   "metadata": {},
   "outputs": [
    {
     "data": {
      "text/plain": [
       "159"
      ]
     },
     "execution_count": 8,
     "metadata": {},
     "output_type": "execute_result"
    }
   ],
   "source": [
    "health['Age'].isna().sum()"
   ]
  },
  {
   "cell_type": "code",
   "execution_count": 9,
   "id": "fda8a44a",
   "metadata": {},
   "outputs": [
    {
     "data": {
      "text/plain": [
       "1000"
      ]
     },
     "execution_count": 9,
     "metadata": {},
     "output_type": "execute_result"
    }
   ],
   "source": [
    "health.shape[0]"
   ]
  },
  {
   "cell_type": "code",
   "execution_count": 10,
   "id": "355772f4",
   "metadata": {},
   "outputs": [
    {
     "data": {
      "text/plain": [
       "841"
      ]
     },
     "execution_count": 10,
     "metadata": {},
     "output_type": "execute_result"
    }
   ],
   "source": [
    "1000-159"
   ]
  },
  {
   "cell_type": "code",
   "execution_count": 31,
   "id": "39b37f20",
   "metadata": {},
   "outputs": [],
   "source": [
    "health = health.dropna(subset=['Age', 'Condition', 'Medication', 'Cholesterol', 'Blood Pressure'], axis=0)"
   ]
  },
  {
   "cell_type": "code",
   "execution_count": 32,
   "id": "d0f366a4",
   "metadata": {},
   "outputs": [
    {
     "data": {
      "text/plain": [
       "Patient Name        0\n",
       "Age                 0\n",
       "Gender              0\n",
       "Condition           0\n",
       "Medication          0\n",
       "Visit Date          0\n",
       "Blood Pressure      0\n",
       "Cholesterol         0\n",
       "Email             158\n",
       "Phone Number       78\n",
       "dtype: int64"
      ]
     },
     "execution_count": 32,
     "metadata": {},
     "output_type": "execute_result"
    }
   ],
   "source": [
    "health.isna().sum()"
   ]
  },
  {
   "cell_type": "code",
   "execution_count": 34,
   "id": "f44cf7d4",
   "metadata": {},
   "outputs": [
    {
     "data": {
      "text/html": [
       "<div>\n",
       "<style scoped>\n",
       "    .dataframe tbody tr th:only-of-type {\n",
       "        vertical-align: middle;\n",
       "    }\n",
       "\n",
       "    .dataframe tbody tr th {\n",
       "        vertical-align: top;\n",
       "    }\n",
       "\n",
       "    .dataframe thead th {\n",
       "        text-align: right;\n",
       "    }\n",
       "</style>\n",
       "<table border=\"1\" class=\"dataframe\">\n",
       "  <thead>\n",
       "    <tr style=\"text-align: right;\">\n",
       "      <th></th>\n",
       "      <th>Patient Name</th>\n",
       "      <th>Age</th>\n",
       "      <th>Gender</th>\n",
       "      <th>Condition</th>\n",
       "      <th>Medication</th>\n",
       "      <th>Visit Date</th>\n",
       "      <th>Blood Pressure</th>\n",
       "      <th>Cholesterol</th>\n",
       "      <th>Email</th>\n",
       "      <th>Phone Number</th>\n",
       "    </tr>\n",
       "  </thead>\n",
       "  <tbody>\n",
       "    <tr>\n",
       "      <th>0</th>\n",
       "      <td>david lee</td>\n",
       "      <td>25</td>\n",
       "      <td>Other</td>\n",
       "      <td>Heart Disease</td>\n",
       "      <td>METFORMIN</td>\n",
       "      <td>01/15/2020</td>\n",
       "      <td>140/90</td>\n",
       "      <td>200.0</td>\n",
       "      <td>name@hospital.org</td>\n",
       "      <td>555-555-5555</td>\n",
       "    </tr>\n",
       "    <tr>\n",
       "      <th>2</th>\n",
       "      <td>laura martinez</td>\n",
       "      <td>35</td>\n",
       "      <td>Other</td>\n",
       "      <td>Asthma</td>\n",
       "      <td>METFORMIN</td>\n",
       "      <td>2019.12.01</td>\n",
       "      <td>110/70</td>\n",
       "      <td>160.0</td>\n",
       "      <td>contact@domain.com</td>\n",
       "      <td>NaN</td>\n",
       "    </tr>\n",
       "    <tr>\n",
       "      <th>8</th>\n",
       "      <td>laura martinez</td>\n",
       "      <td>60</td>\n",
       "      <td>Other</td>\n",
       "      <td>Heart Disease</td>\n",
       "      <td>NONE</td>\n",
       "      <td>01/15/2020</td>\n",
       "      <td>140/90</td>\n",
       "      <td>180.0</td>\n",
       "      <td>name@hospital.org</td>\n",
       "      <td>NaN</td>\n",
       "    </tr>\n",
       "    <tr>\n",
       "      <th>10</th>\n",
       "      <td>emily davis</td>\n",
       "      <td>25</td>\n",
       "      <td>Male</td>\n",
       "      <td>Asthma</td>\n",
       "      <td>ATORVASTATIN</td>\n",
       "      <td>April 5, 2018</td>\n",
       "      <td>120/80</td>\n",
       "      <td>200.0</td>\n",
       "      <td>NaN</td>\n",
       "      <td></td>\n",
       "    </tr>\n",
       "    <tr>\n",
       "      <th>12</th>\n",
       "      <td>laura martinez</td>\n",
       "      <td>forty</td>\n",
       "      <td>Male</td>\n",
       "      <td>Diabetes</td>\n",
       "      <td>ALBUTEROL</td>\n",
       "      <td>03-25-2019</td>\n",
       "      <td>140/90</td>\n",
       "      <td>180.0</td>\n",
       "      <td>NaN</td>\n",
       "      <td>123-456-7890</td>\n",
       "    </tr>\n",
       "  </tbody>\n",
       "</table>\n",
       "</div>"
      ],
      "text/plain": [
       "        Patient Name    Age Gender      Condition    Medication  \\\n",
       "0         david lee      25  Other  Heart Disease     METFORMIN   \n",
       "2    laura martinez      35  Other         Asthma     METFORMIN   \n",
       "8    laura martinez      60  Other  Heart Disease          NONE   \n",
       "10      emily davis      25   Male         Asthma  ATORVASTATIN   \n",
       "12   laura martinez   forty   Male       Diabetes     ALBUTEROL   \n",
       "\n",
       "       Visit Date Blood Pressure  Cholesterol               Email  \\\n",
       "0      01/15/2020         140/90        200.0   name@hospital.org   \n",
       "2      2019.12.01         110/70        160.0  contact@domain.com   \n",
       "8      01/15/2020         140/90        180.0   name@hospital.org   \n",
       "10  April 5, 2018         120/80        200.0                 NaN   \n",
       "12     03-25-2019         140/90        180.0                 NaN   \n",
       "\n",
       "    Phone Number  \n",
       "0   555-555-5555  \n",
       "2            NaN  \n",
       "8            NaN  \n",
       "10                \n",
       "12  123-456-7890  "
      ]
     },
     "execution_count": 34,
     "metadata": {},
     "output_type": "execute_result"
    }
   ],
   "source": [
    "health.head(5)"
   ]
  },
  {
   "cell_type": "code",
   "execution_count": 36,
   "id": "8a7f13d0",
   "metadata": {},
   "outputs": [],
   "source": [
    "health['Age'] = health['Age'].str.replace(\"forty\", \"40\", regex=False)"
   ]
  },
  {
   "cell_type": "code",
   "execution_count": 38,
   "id": "7773f43f",
   "metadata": {},
   "outputs": [],
   "source": [
    "health['Age'] = health['Age'].astype(int)"
   ]
  },
  {
   "cell_type": "code",
   "execution_count": null,
   "id": "d042abf9",
   "metadata": {},
   "outputs": [
    {
     "data": {
      "text/plain": [
       "array(['Other', 'Male', 'Female'], dtype=object)"
      ]
     },
     "execution_count": 41,
     "metadata": {},
     "output_type": "execute_result"
    }
   ],
   "source": [
    "health['Gender'].isna().sum()"
   ]
  },
  {
   "cell_type": "code",
   "execution_count": null,
   "id": "9fc39195",
   "metadata": {},
   "outputs": [],
   "source": []
  }
 ],
 "metadata": {
  "kernelspec": {
   "display_name": "base",
   "language": "python",
   "name": "python3"
  },
  "language_info": {
   "codemirror_mode": {
    "name": "ipython",
    "version": 3
   },
   "file_extension": ".py",
   "mimetype": "text/x-python",
   "name": "python",
   "nbconvert_exporter": "python",
   "pygments_lexer": "ipython3",
   "version": "3.12.7"
  }
 },
 "nbformat": 4,
 "nbformat_minor": 5
}
