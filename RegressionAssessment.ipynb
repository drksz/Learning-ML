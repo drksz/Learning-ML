{
 "cells": [
  {
   "cell_type": "markdown",
   "id": "6aa23a0b",
   "metadata": {},
   "source": [
    "### Quantifying Model Fit"
   ]
  },
  {
   "cell_type": "code",
   "execution_count": 1,
   "id": "1a0ddc25",
   "metadata": {},
   "outputs": [],
   "source": [
    "import pandas as pd\n",
    "import matplotlib.pyplot as plt\n",
    "import seaborn as sns\n",
    "from statsmodels.formula.api import ols"
   ]
  },
  {
   "cell_type": "markdown",
   "id": "463fe25b",
   "metadata": {},
   "source": [
    "##### The Coefficient of Determination \n",
    "\n",
    "R-squared ('r' for single and 'R' for multiple explanatory variables) is the proportion of variance in the response variable that is predictable from the explanatory variable. The range is [0,1]; 1 for perfect fit 0 for worst possible fit.\n",
    "\n",
    "In simpler terms, the coefficient of determination is simply the correlation between the explanatory and the response variable squared.\n",
    "\n",
    "##### Residual Standard Error (RSE)\n",
    "\n",
    "RSE is the 'typical' residual value of observed and predicted datapoints. It can also be viewed as the standard deviation of the residuals in a linear regression model. Since it is an SD, it has the same unit as the response variable. Als note that Mean Squared Error (MSE) is equal to the square of the RSE. MSE = RSE^2. "
   ]
  },
  {
   "cell_type": "code",
   "execution_count": null,
   "id": "0c93fda9",
   "metadata": {},
   "outputs": [],
   "source": []
  }
 ],
 "metadata": {
  "kernelspec": {
   "display_name": "base",
   "language": "python",
   "name": "python3"
  },
  "language_info": {
   "codemirror_mode": {
    "name": "ipython",
    "version": 3
   },
   "file_extension": ".py",
   "mimetype": "text/x-python",
   "name": "python",
   "nbconvert_exporter": "python",
   "pygments_lexer": "ipython3",
   "version": "3.12.7"
  }
 },
 "nbformat": 4,
 "nbformat_minor": 5
}
