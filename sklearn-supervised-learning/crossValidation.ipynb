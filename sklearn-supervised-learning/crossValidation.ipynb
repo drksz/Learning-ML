{
 "cells": [
  {
   "cell_type": "markdown",
   "id": "26b9c3c0",
   "metadata": {},
   "source": [
    "# Supervised Learning with scikit-learn (cont.)"
   ]
  },
  {
   "cell_type": "markdown",
   "id": "a05b3ded",
   "metadata": {},
   "source": [
    "### CROSS VALIDATION\n",
    "Cross-validation (CV) is an iterative process in which each datapoint or cluster of data is given an equal chance at becoming both a training and testing point for the model.\n",
    "\n",
    "##### Why Cross Validation?\n",
    "Say you have created and fitted a linear regression model and decide to evaluate its $R^2$ metric. Such metrics are heavily dependent on how the data is split during the train and test-splitting. Due to the random nature of the splitting of data, that $R^2$ metric may not be representative of the model's ability to generalize to unseen data. The solution to this is applying cross-validation which iteratively splits data into training and testing sets multiple times.\n",
    "\n",
    "\n",
    "Cross-validation works by splitting the data into **folds**. One such fold is designated as test data and the rest as training data. This process is done in an iteration known as a **split**. For each split, the training and testing folds are updated. This ensures that the model has a different set of training and testing folds for each split iteration. At each step, the metric of interest (such as $R^2$) is also calculated. That is, if there have been $n$ splits, then there will be $n$ metrics computed as well. From these values we can compute statistics (e.g. mean, median, confidence intervals, etc.)\n",
    "\n",
    "CV done with $k$ number of folds is called $k$-fold cross-validation. Also, note that **as $k$ increases**, CV becomes more **computationally expensive**.\n"
   ]
  },
  {
   "cell_type": "code",
   "execution_count": 1,
   "id": "51743f04",
   "metadata": {},
   "outputs": [],
   "source": [
    "import pandas as pd \n",
    "import numpy as np\n",
    "from sklearn.linear_model import LinearRegression\n",
    "\n",
    "# the KFold class and cross_val_scorer method are required for CV\n",
    "from sklearn.model_selection import cross_val_score, KFold"
   ]
  },
  {
   "cell_type": "code",
   "execution_count": 5,
   "id": "0701b087",
   "metadata": {},
   "outputs": [
    {
     "data": {
      "text/html": [
       "<div>\n",
       "<style scoped>\n",
       "    .dataframe tbody tr th:only-of-type {\n",
       "        vertical-align: middle;\n",
       "    }\n",
       "\n",
       "    .dataframe tbody tr th {\n",
       "        vertical-align: top;\n",
       "    }\n",
       "\n",
       "    .dataframe thead th {\n",
       "        text-align: right;\n",
       "    }\n",
       "</style>\n",
       "<table border=\"1\" class=\"dataframe\">\n",
       "  <thead>\n",
       "    <tr style=\"text-align: right;\">\n",
       "      <th></th>\n",
       "      <th>pregnancies</th>\n",
       "      <th>glucose</th>\n",
       "      <th>diastolic</th>\n",
       "      <th>triceps</th>\n",
       "      <th>insulin</th>\n",
       "      <th>bmi</th>\n",
       "      <th>dpf</th>\n",
       "      <th>age</th>\n",
       "      <th>diabetes</th>\n",
       "    </tr>\n",
       "  </thead>\n",
       "  <tbody>\n",
       "    <tr>\n",
       "      <th>0</th>\n",
       "      <td>6</td>\n",
       "      <td>148</td>\n",
       "      <td>72</td>\n",
       "      <td>35</td>\n",
       "      <td>0</td>\n",
       "      <td>33.6</td>\n",
       "      <td>0.627</td>\n",
       "      <td>50</td>\n",
       "      <td>1</td>\n",
       "    </tr>\n",
       "    <tr>\n",
       "      <th>1</th>\n",
       "      <td>1</td>\n",
       "      <td>85</td>\n",
       "      <td>66</td>\n",
       "      <td>29</td>\n",
       "      <td>0</td>\n",
       "      <td>26.6</td>\n",
       "      <td>0.351</td>\n",
       "      <td>31</td>\n",
       "      <td>0</td>\n",
       "    </tr>\n",
       "    <tr>\n",
       "      <th>2</th>\n",
       "      <td>8</td>\n",
       "      <td>183</td>\n",
       "      <td>64</td>\n",
       "      <td>0</td>\n",
       "      <td>0</td>\n",
       "      <td>23.3</td>\n",
       "      <td>0.672</td>\n",
       "      <td>32</td>\n",
       "      <td>1</td>\n",
       "    </tr>\n",
       "    <tr>\n",
       "      <th>3</th>\n",
       "      <td>1</td>\n",
       "      <td>89</td>\n",
       "      <td>66</td>\n",
       "      <td>23</td>\n",
       "      <td>94</td>\n",
       "      <td>28.1</td>\n",
       "      <td>0.167</td>\n",
       "      <td>21</td>\n",
       "      <td>0</td>\n",
       "    </tr>\n",
       "    <tr>\n",
       "      <th>4</th>\n",
       "      <td>0</td>\n",
       "      <td>137</td>\n",
       "      <td>40</td>\n",
       "      <td>35</td>\n",
       "      <td>168</td>\n",
       "      <td>43.1</td>\n",
       "      <td>2.288</td>\n",
       "      <td>33</td>\n",
       "      <td>1</td>\n",
       "    </tr>\n",
       "  </tbody>\n",
       "</table>\n",
       "</div>"
      ],
      "text/plain": [
       "   pregnancies  glucose  diastolic  triceps  insulin   bmi    dpf  age  \\\n",
       "0            6      148         72       35        0  33.6  0.627   50   \n",
       "1            1       85         66       29        0  26.6  0.351   31   \n",
       "2            8      183         64        0        0  23.3  0.672   32   \n",
       "3            1       89         66       23       94  28.1  0.167   21   \n",
       "4            0      137         40       35      168  43.1  2.288   33   \n",
       "\n",
       "   diabetes  \n",
       "0         1  \n",
       "1         0  \n",
       "2         1  \n",
       "3         0  \n",
       "4         1  "
      ]
     },
     "execution_count": 5,
     "metadata": {},
     "output_type": "execute_result"
    }
   ],
   "source": [
    "# Using the same womens' health dataset\n",
    "womens_health = pd.read_csv('../Data/diabetes_clean.csv')\n",
    "womens_health.head()"
   ]
  },
  {
   "cell_type": "code",
   "execution_count": 13,
   "id": "05f70ba9",
   "metadata": {},
   "outputs": [],
   "source": [
    "# Setting up multiple linear regression \n",
    "predictors_X = womens_health.drop('glucose', axis=1).values\n",
    "target_y = womens_health['glucose'].values\n",
    "\n",
    "# Create the CV generator\n",
    "folds = KFold(n_splits=6, shuffle=True, random_state=12) # Default n_splits is 5. We want 6 folds so we use 6 splits\n",
    "\n",
    "glc_reg = LinearRegression()\n",
    "\n",
    "# Get the results of the cross-validation\n",
    "# Pass the model, predictors, and the CV generator\n",
    "cv_result = cross_val_score(glc_reg, predictors_X, target_y, cv=folds)\n",
    "\n",
    "# Note that the score reported will be R^2 since it is the default score for linear regression"
   ]
  },
  {
   "cell_type": "code",
   "execution_count": null,
   "id": "6788040b",
   "metadata": {},
   "outputs": [
    {
     "name": "stdout",
     "output_type": "stream",
     "text": [
      "[0.373619   0.27942465 0.38496821 0.33442763 0.24902435 0.29531594]\n"
     ]
    }
   ],
   "source": [
    "# Printing the R^2 scores from cross validation\n",
    "print(cv_result)"
   ]
  },
  {
   "cell_type": "markdown",
   "id": "2ca0689d",
   "metadata": {},
   "source": [
    "We can use the scores we've obtained to calculated statistics such as mean score, standard deviation, and the 95% confidence interval."
   ]
  },
  {
   "cell_type": "code",
   "execution_count": 16,
   "id": "e75c4c4f",
   "metadata": {},
   "outputs": [
    {
     "name": "stdout",
     "output_type": "stream",
     "text": [
      "CV Average R^2: 0.3194632957255576\n",
      "CV R^2 stddev.: 0.04932122304665104\n",
      "Score confidence interval: [0.25282439 0.38354956]\n"
     ]
    }
   ],
   "source": [
    "print(f'CV Average R^2: {np.mean(cv_result)}\\nCV R^2 stddev.: {np.std(cv_result)}')\n",
    "print(f'Score confidence interval: {np.quantile(cv_result, [0.025, 0.975])}')"
   ]
  }
 ],
 "metadata": {
  "kernelspec": {
   "display_name": "base",
   "language": "python",
   "name": "python3"
  },
  "language_info": {
   "codemirror_mode": {
    "name": "ipython",
    "version": 3
   },
   "file_extension": ".py",
   "mimetype": "text/x-python",
   "name": "python",
   "nbconvert_exporter": "python",
   "pygments_lexer": "ipython3",
   "version": "3.12.7"
  }
 },
 "nbformat": 4,
 "nbformat_minor": 5
}
