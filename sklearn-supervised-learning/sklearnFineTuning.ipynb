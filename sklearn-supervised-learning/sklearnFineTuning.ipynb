{
 "cells": [
  {
   "cell_type": "markdown",
   "id": "d281a371",
   "metadata": {},
   "source": [
    "# Supervised Learning with scikit-learn (cont.)"
   ]
  },
  {
   "cell_type": "code",
   "execution_count": 1,
   "id": "6815f51c",
   "metadata": {},
   "outputs": [],
   "source": [
    "import pandas as pd\n",
    "import numpy as np \n",
    "import matplotlib.pyplot as plt "
   ]
  },
  {
   "cell_type": "markdown",
   "id": "f3c0bd27",
   "metadata": {},
   "source": [
    "### CLASS IMBALANCES AND METRICS OTHER THAN ACCURACY\n",
    "\n",
    "Accuracy is not always a useful metric when evaluating the performance of a model. It simply represents a fraction of correctly classified samples.\n",
    "\n",
    "Say we have a classification model for predicting fraudulent bank transactions. 99% of the data fed to the model are legitimate transactions and only the remaining 1% is fraudulent. That model could become a classifier that predicts non-fraudulent bank transactions and would be 99% accurate. However, it would perform terribly at actually predicting fraudulent transactions, which defeats its original purpose. \n",
    "\n",
    "This is called **class imbalance**, where a certain class in a dataset has significantly more observations/datapoints than another, creating a disproportionate ratio between classes.\n",
    "\n",
    "##### The Confusion Matrix\n",
    "A confusion matrix is a 2x2 table that compares predictions made by a model and the actual values. It allows us to view the proportion of correct classifications, false positives, and false negatives.\n",
    "\n",
    "&ensp;\n",
    "\n",
    "For the bank transaction model, it would look something like this:\n",
    "\n",
    "|                 | Predicted Legitimate |Predicted Fraudulent|\n",
    "|-----------------|----------------------|--------------------|\n",
    "|Actual Legitimate|  True Negative (TN)  | False Positive (FP)|\n",
    "|Actual Fraudulent|  False Negative (FN) | True Positive (TP) |\n",
    "\n",
    "*Note that a legitimate prediction is referred to as 'negative', as in NOT a fraudulent transaction.*\n",
    "\n",
    "&ensp;\n",
    "From this matrix, the following metrics can be computed:\n",
    "\n",
    "&ensp;\n",
    "1. **Accuracy**: Simply the proportion of correct predictions. \n",
    "\n",
    "&ensp;&ensp;&ensp;&ensp;&ensp;$accuracy = \\frac{tp + tn}{tp + tn + fp + fn}$\n",
    "\n",
    "2. **Precision**: Refers to how many positive predictions made by a model are actually correct. (*Out of the predicted positives, how many are correct?*)\n",
    "\n",
    "&ensp;&ensp;&ensp;&ensp;&ensp;$precision = \\frac{tp}{tp + fp}$\n",
    "\n",
    "&ensp;&ensp;&ensp;&ensp;&ensp;Also, note that a higher precision would mean a lower false positive rate. \n",
    "\n",
    "3. **Recall**: Refers to how many of the actual positive cases a model has correctly identified. (*Out of the actual positives, how many were caught?*)\n",
    "\n",
    "&ensp;&ensp;&ensp;&ensp;&ensp;$recall = \\frac{tp}{tp + fn}$\n",
    "\n",
    "&ensp;&ensp;&ensp;&ensp;&ensp;Higher recall means a lower false negative rate.\n",
    "\n",
    "4. **F1 Score**: A metric that balances precision and recall into a single value. It is the harmonic mean of precision and recall. F1 is simply a balance between both values.\n",
    "\n",
    "&ensp;&ensp;&ensp;&ensp;&ensp; $F1 Score = \\frac{precision \\cdot recall}{precision + recall}$\n",
    "\n",
    "\n",
    "&ensp;\n",
    "In application, you would want to use precision to evaluate your model if false positives are costly, such as fraud detection where legitimate transactions may get blocked (false positive). If false negatives are risky or dangerous, such as predicting the presence of cancer in patients, then recall is the better metric, since you would not want a case of malignancy to go undiagnosed (false negative). F1 Score, on the other hand, is somewhat of a middle ground. It generalizes recall and precision into a single value and should only be used if none of the error types pose greater risk than the other. \n",
    "\n",
    "\n",
    "&ensp;&ensp;\n",
    "\n",
    "Below is a demonstration of using the confusion matrix on the churn dataset."
   ]
  },
  {
   "cell_type": "code",
   "execution_count": 2,
   "id": "caa56b37",
   "metadata": {},
   "outputs": [
    {
     "data": {
      "text/html": [
       "<div>\n",
       "<style scoped>\n",
       "    .dataframe tbody tr th:only-of-type {\n",
       "        vertical-align: middle;\n",
       "    }\n",
       "\n",
       "    .dataframe tbody tr th {\n",
       "        vertical-align: top;\n",
       "    }\n",
       "\n",
       "    .dataframe thead th {\n",
       "        text-align: right;\n",
       "    }\n",
       "</style>\n",
       "<table border=\"1\" class=\"dataframe\">\n",
       "  <thead>\n",
       "    <tr style=\"text-align: right;\">\n",
       "      <th></th>\n",
       "      <th>Unnamed: 0</th>\n",
       "      <th>account_length</th>\n",
       "      <th>area_code</th>\n",
       "      <th>international_plan</th>\n",
       "      <th>voice_mail_plan</th>\n",
       "      <th>number_vmail_messages</th>\n",
       "      <th>total_day_minutes</th>\n",
       "      <th>total_day_calls</th>\n",
       "      <th>total_day_charge</th>\n",
       "      <th>total_eve_minutes</th>\n",
       "      <th>total_eve_calls</th>\n",
       "      <th>total_eve_charge</th>\n",
       "      <th>total_night_minutes</th>\n",
       "      <th>total_night_calls</th>\n",
       "      <th>total_night_charge</th>\n",
       "      <th>total_intl_minutes</th>\n",
       "      <th>total_intl_calls</th>\n",
       "      <th>total_intl_charge</th>\n",
       "      <th>customer_service_calls</th>\n",
       "      <th>churn</th>\n",
       "    </tr>\n",
       "  </thead>\n",
       "  <tbody>\n",
       "    <tr>\n",
       "      <th>0</th>\n",
       "      <td>0</td>\n",
       "      <td>128</td>\n",
       "      <td>415</td>\n",
       "      <td>0</td>\n",
       "      <td>1</td>\n",
       "      <td>25</td>\n",
       "      <td>265.1</td>\n",
       "      <td>110</td>\n",
       "      <td>45.07</td>\n",
       "      <td>197.4</td>\n",
       "      <td>99</td>\n",
       "      <td>16.78</td>\n",
       "      <td>244.7</td>\n",
       "      <td>91</td>\n",
       "      <td>11.01</td>\n",
       "      <td>10.0</td>\n",
       "      <td>3</td>\n",
       "      <td>2.70</td>\n",
       "      <td>1</td>\n",
       "      <td>0</td>\n",
       "    </tr>\n",
       "    <tr>\n",
       "      <th>1</th>\n",
       "      <td>1</td>\n",
       "      <td>107</td>\n",
       "      <td>415</td>\n",
       "      <td>0</td>\n",
       "      <td>1</td>\n",
       "      <td>26</td>\n",
       "      <td>161.6</td>\n",
       "      <td>123</td>\n",
       "      <td>27.47</td>\n",
       "      <td>195.5</td>\n",
       "      <td>103</td>\n",
       "      <td>16.62</td>\n",
       "      <td>254.4</td>\n",
       "      <td>103</td>\n",
       "      <td>11.45</td>\n",
       "      <td>13.7</td>\n",
       "      <td>3</td>\n",
       "      <td>3.70</td>\n",
       "      <td>1</td>\n",
       "      <td>0</td>\n",
       "    </tr>\n",
       "    <tr>\n",
       "      <th>2</th>\n",
       "      <td>2</td>\n",
       "      <td>137</td>\n",
       "      <td>415</td>\n",
       "      <td>0</td>\n",
       "      <td>0</td>\n",
       "      <td>0</td>\n",
       "      <td>243.4</td>\n",
       "      <td>114</td>\n",
       "      <td>41.38</td>\n",
       "      <td>121.2</td>\n",
       "      <td>110</td>\n",
       "      <td>10.30</td>\n",
       "      <td>162.6</td>\n",
       "      <td>104</td>\n",
       "      <td>7.32</td>\n",
       "      <td>12.2</td>\n",
       "      <td>5</td>\n",
       "      <td>3.29</td>\n",
       "      <td>0</td>\n",
       "      <td>0</td>\n",
       "    </tr>\n",
       "    <tr>\n",
       "      <th>3</th>\n",
       "      <td>3</td>\n",
       "      <td>84</td>\n",
       "      <td>408</td>\n",
       "      <td>1</td>\n",
       "      <td>0</td>\n",
       "      <td>0</td>\n",
       "      <td>299.4</td>\n",
       "      <td>71</td>\n",
       "      <td>50.90</td>\n",
       "      <td>61.9</td>\n",
       "      <td>88</td>\n",
       "      <td>5.26</td>\n",
       "      <td>196.9</td>\n",
       "      <td>89</td>\n",
       "      <td>8.86</td>\n",
       "      <td>6.6</td>\n",
       "      <td>7</td>\n",
       "      <td>1.78</td>\n",
       "      <td>2</td>\n",
       "      <td>0</td>\n",
       "    </tr>\n",
       "    <tr>\n",
       "      <th>4</th>\n",
       "      <td>4</td>\n",
       "      <td>75</td>\n",
       "      <td>415</td>\n",
       "      <td>1</td>\n",
       "      <td>0</td>\n",
       "      <td>0</td>\n",
       "      <td>166.7</td>\n",
       "      <td>113</td>\n",
       "      <td>28.34</td>\n",
       "      <td>148.3</td>\n",
       "      <td>122</td>\n",
       "      <td>12.61</td>\n",
       "      <td>186.9</td>\n",
       "      <td>121</td>\n",
       "      <td>8.41</td>\n",
       "      <td>10.1</td>\n",
       "      <td>3</td>\n",
       "      <td>2.73</td>\n",
       "      <td>3</td>\n",
       "      <td>0</td>\n",
       "    </tr>\n",
       "  </tbody>\n",
       "</table>\n",
       "</div>"
      ],
      "text/plain": [
       "   Unnamed: 0  account_length  ...  customer_service_calls  churn\n",
       "0           0             128  ...                       1      0\n",
       "1           1             107  ...                       1      0\n",
       "2           2             137  ...                       0      0\n",
       "3           3              84  ...                       2      0\n",
       "4           4              75  ...                       3      0\n",
       "\n",
       "[5 rows x 20 columns]"
      ]
     },
     "execution_count": 2,
     "metadata": {},
     "output_type": "execute_result"
    }
   ],
   "source": [
    "telco_churn = pd.read_csv('../Data/telecom_churn_clean.csv')\n",
    "telco_churn.head()"
   ]
  },
  {
   "cell_type": "code",
   "execution_count": 3,
   "id": "ebf2ec74",
   "metadata": {},
   "outputs": [],
   "source": [
    "# Define X and y\n",
    "pred_X = telco_churn.drop('churn', axis=1).values\n",
    "target_y = telco_churn['churn'].values"
   ]
  },
  {
   "cell_type": "code",
   "execution_count": 4,
   "id": "fe769414",
   "metadata": {},
   "outputs": [
    {
     "name": "stderr",
     "output_type": "stream",
     "text": [
      "c:\\Users\\Derek\\anaconda3\\Lib\\site-packages\\joblib\\externals\\loky\\backend\\context.py:136: UserWarning: Could not find the number of physical cores for the following reason:\n",
      "[WinError 2] The system cannot find the file specified\n",
      "Returning the number of logical cores instead. You can silence this warning by setting LOKY_MAX_CPU_COUNT to the number of cores you want to use.\n",
      "  warnings.warn(\n",
      "  File \"c:\\Users\\Derek\\anaconda3\\Lib\\site-packages\\joblib\\externals\\loky\\backend\\context.py\", line 257, in _count_physical_cores\n",
      "    cpu_info = subprocess.run(\n",
      "               ^^^^^^^^^^^^^^^\n",
      "  File \"c:\\Users\\Derek\\anaconda3\\Lib\\subprocess.py\", line 548, in run\n",
      "    with Popen(*popenargs, **kwargs) as process:\n",
      "         ^^^^^^^^^^^^^^^^^^^^^^^^^^^\n",
      "  File \"c:\\Users\\Derek\\anaconda3\\Lib\\subprocess.py\", line 1026, in __init__\n",
      "    self._execute_child(args, executable, preexec_fn, close_fds,\n",
      "  File \"c:\\Users\\Derek\\anaconda3\\Lib\\subprocess.py\", line 1538, in _execute_child\n",
      "    hp, ht, pid, tid = _winapi.CreateProcess(executable, args,\n",
      "                       ^^^^^^^^^^^^^^^^^^^^^^^^^^^^^^^^^^^^^^^\n"
     ]
    }
   ],
   "source": [
    "from sklearn.neighbors import KNeighborsClassifier   # The KNN classifier\n",
    "from sklearn.metrics import classification_report, confusion_matrix   # Import confusion matrix and classification report for metrics\n",
    "from sklearn.model_selection import train_test_split\n",
    "\n",
    "# Here, we are deliberately not using the 'stratify' argument to induce a class imbalance\n",
    "X_train, X_test, y_train, y_test = train_test_split(pred_X, target_y, test_size=0.4, random_state=10) \n",
    "\n",
    "telco_knn = KNeighborsClassifier(n_neighbors=7)\n",
    "telco_knn.fit(X_train, y_train)\n",
    "y_pred = telco_knn.predict(X_test)"
   ]
  },
  {
   "cell_type": "code",
   "execution_count": 5,
   "id": "f7dc90ae",
   "metadata": {},
   "outputs": [
    {
     "name": "stdout",
     "output_type": "stream",
     "text": [
      "[[1150    5]\n",
      " [ 167   12]]\n"
     ]
    }
   ],
   "source": [
    "# Print the confusion matrix\n",
    "conf_mat = confusion_matrix(y_test, y_pred)\n",
    "print(conf_mat)"
   ]
  },
  {
   "cell_type": "code",
   "execution_count": 6,
   "id": "c8ed108b",
   "metadata": {},
   "outputs": [
    {
     "name": "stdout",
     "output_type": "stream",
     "text": [
      "Accuracy: 0.8710644677661169\n",
      "Precision: 0.7058823529411765\n",
      "Recall: 0.0670391061452514\n",
      "F1 Score: 0.06122448979591836\n"
     ]
    }
   ],
   "source": [
    "# Metrics can be calculated manually \n",
    "tn = conf_mat[0,0]\n",
    "fp = conf_mat[0,1]\n",
    "fn = conf_mat[1,0]\n",
    "tp = conf_mat[1,1]\n",
    "\n",
    "accuracy = (tn + tp) / (tn + fp + fn + tp)\n",
    "precision = tp / (fp + tp)\n",
    "recall = tp / (tp + fn)\n",
    "f1_score = (precision * recall) / (precision + recall)\n",
    "\n",
    "print(f'Accuracy: {accuracy}\\nPrecision: {precision}\\nRecall: {recall}\\nF1 Score: {f1_score}')"
   ]
  },
  {
   "cell_type": "code",
   "execution_count": 7,
   "id": "9737253f",
   "metadata": {},
   "outputs": [
    {
     "name": "stdout",
     "output_type": "stream",
     "text": [
      "              precision    recall  f1-score   support\n",
      "\n",
      "           0       0.87      1.00      0.93      1155\n",
      "           1       0.71      0.07      0.12       179\n",
      "\n",
      "    accuracy                           0.87      1334\n",
      "   macro avg       0.79      0.53      0.53      1334\n",
      "weighted avg       0.85      0.87      0.82      1334\n",
      "\n"
     ]
    }
   ],
   "source": [
    "# Metrics can also be calculated automatically with classification_report\n",
    "\n",
    "print(classification_report(y_test, y_pred))"
   ]
  },
  {
   "cell_type": "markdown",
   "id": "dee348ff",
   "metadata": {},
   "source": [
    "### LOGISTIC REGRESSION AND THE ROC CURVE\n",
    "A logistic regression model is commonly used for classification problems (often binary). It outputs the probability $p$ that an observation belongs to a binary class.\n",
    "\n",
    "When implementing logistic regression, we apply a probability threshold to label certain predictions as binary classes. Note that the default threshold is $0.5$. Using the womens' health dataset for diabetes prediction, we make the following assignments:\n",
    "\n",
    "- If $p > 0.5$, label it as 1 to denote that a patient likely has diabetes\n",
    "- If $p < 0.5$, label it as 0 to denote that a patient likely does not have diabetes\n",
    "\n",
    "*Note that a logistic regression model produces a linear decision boundary. Look it up online for reference.*"
   ]
  },
  {
   "cell_type": "code",
   "execution_count": 12,
   "id": "152f23bc",
   "metadata": {},
   "outputs": [
    {
     "data": {
      "text/html": [
       "<div>\n",
       "<style scoped>\n",
       "    .dataframe tbody tr th:only-of-type {\n",
       "        vertical-align: middle;\n",
       "    }\n",
       "\n",
       "    .dataframe tbody tr th {\n",
       "        vertical-align: top;\n",
       "    }\n",
       "\n",
       "    .dataframe thead th {\n",
       "        text-align: right;\n",
       "    }\n",
       "</style>\n",
       "<table border=\"1\" class=\"dataframe\">\n",
       "  <thead>\n",
       "    <tr style=\"text-align: right;\">\n",
       "      <th></th>\n",
       "      <th>pregnancies</th>\n",
       "      <th>glucose</th>\n",
       "      <th>diastolic</th>\n",
       "      <th>triceps</th>\n",
       "      <th>insulin</th>\n",
       "      <th>bmi</th>\n",
       "      <th>dpf</th>\n",
       "      <th>age</th>\n",
       "      <th>diabetes</th>\n",
       "    </tr>\n",
       "  </thead>\n",
       "  <tbody>\n",
       "    <tr>\n",
       "      <th>0</th>\n",
       "      <td>6</td>\n",
       "      <td>148</td>\n",
       "      <td>72</td>\n",
       "      <td>35</td>\n",
       "      <td>0</td>\n",
       "      <td>33.6</td>\n",
       "      <td>0.627</td>\n",
       "      <td>50</td>\n",
       "      <td>1</td>\n",
       "    </tr>\n",
       "    <tr>\n",
       "      <th>1</th>\n",
       "      <td>1</td>\n",
       "      <td>85</td>\n",
       "      <td>66</td>\n",
       "      <td>29</td>\n",
       "      <td>0</td>\n",
       "      <td>26.6</td>\n",
       "      <td>0.351</td>\n",
       "      <td>31</td>\n",
       "      <td>0</td>\n",
       "    </tr>\n",
       "    <tr>\n",
       "      <th>2</th>\n",
       "      <td>8</td>\n",
       "      <td>183</td>\n",
       "      <td>64</td>\n",
       "      <td>0</td>\n",
       "      <td>0</td>\n",
       "      <td>23.3</td>\n",
       "      <td>0.672</td>\n",
       "      <td>32</td>\n",
       "      <td>1</td>\n",
       "    </tr>\n",
       "    <tr>\n",
       "      <th>3</th>\n",
       "      <td>1</td>\n",
       "      <td>89</td>\n",
       "      <td>66</td>\n",
       "      <td>23</td>\n",
       "      <td>94</td>\n",
       "      <td>28.1</td>\n",
       "      <td>0.167</td>\n",
       "      <td>21</td>\n",
       "      <td>0</td>\n",
       "    </tr>\n",
       "    <tr>\n",
       "      <th>4</th>\n",
       "      <td>0</td>\n",
       "      <td>137</td>\n",
       "      <td>40</td>\n",
       "      <td>35</td>\n",
       "      <td>168</td>\n",
       "      <td>43.1</td>\n",
       "      <td>2.288</td>\n",
       "      <td>33</td>\n",
       "      <td>1</td>\n",
       "    </tr>\n",
       "  </tbody>\n",
       "</table>\n",
       "</div>"
      ],
      "text/plain": [
       "   pregnancies  glucose  diastolic  triceps  ...   bmi    dpf  age  diabetes\n",
       "0            6      148         72       35  ...  33.6  0.627   50         1\n",
       "1            1       85         66       29  ...  26.6  0.351   31         0\n",
       "2            8      183         64        0  ...  23.3  0.672   32         1\n",
       "3            1       89         66       23  ...  28.1  0.167   21         0\n",
       "4            0      137         40       35  ...  43.1  2.288   33         1\n",
       "\n",
       "[5 rows x 9 columns]"
      ]
     },
     "execution_count": 12,
     "metadata": {},
     "output_type": "execute_result"
    }
   ],
   "source": [
    "womens_health = pd.read_csv('../Data/diabetes_clean.csv')\n",
    "womens_health.head()"
   ]
  },
  {
   "cell_type": "code",
   "execution_count": 16,
   "id": "4a4b3496",
   "metadata": {},
   "outputs": [],
   "source": [
    "pred_X = womens_health['glucose'].values\n",
    "pred_X = pred_X.reshape(-1, 1)\n",
    "target_y = womens_health['diabetes'].values\n",
    "\n",
    "X_train, X_test, y_train, y_test = train_test_split(pred_X, target_y, test_size=0.3, random_state=10)"
   ]
  },
  {
   "cell_type": "code",
   "execution_count": 17,
   "id": "35038328",
   "metadata": {},
   "outputs": [],
   "source": [
    "from sklearn.linear_model import LogisticRegression\n",
    "logit_model = LogisticRegression()\n",
    "\n",
    "# Using telco churn data train-test split\n",
    "logit_model.fit(X_train, y_train)\n",
    "y_pred = logit_model.predict(X_test)"
   ]
  },
  {
   "cell_type": "code",
   "execution_count": 27,
   "id": "c81429a3",
   "metadata": {},
   "outputs": [],
   "source": [
    "# Storing the probabilities\n",
    "# Slicing to only get probability for positive predictions\n",
    "pred_probabilities = logit_model.predict_proba(X_test)[:, 1]"
   ]
  },
  {
   "cell_type": "markdown",
   "id": "fe3703f1",
   "metadata": {},
   "source": [
    "##### The ROC Curve\n",
    "Note that a probability threshold is not exclusive to logistic regression as other models such as KNN classifiers can hhave thresholds too. We would also like to know what would happen if we vary the threshold.\n",
    "\n",
    "The **Receiver Operating Characteristic (ROC)** curve is a plot that shows the performance of a binary classifier model by comparing the rate of true positive predictions (sensitivity) and the rate of false positive predictions (1-specificity) at varying levels of probability thresholds.\n"
   ]
  },
  {
   "cell_type": "code",
   "execution_count": 47,
   "id": "68e7f2e0",
   "metadata": {},
   "outputs": [
    {
     "data": {
      "image/png": "[encoded data removed]",
      "text/plain": [
       "<Figure size 640x480 with 1 Axes>"
      ]
     },
     "metadata": {},
     "output_type": "display_data"
    }
   ],
   "source": [
    "x_axis = np.linspace(0.0, 1.0, 50)\n",
    "y_axis = x_axis\n",
    "\n",
    "fig, ax = plt.subplots()\n",
    "\n",
    "ax.plot(x_axis, y_axis, linestyle='--', color='black')\n",
    "ax.annotate('p = 0', xy=(1.0, 1.0), xytext=(1.0, 0.8), arrowprops={'color':'blue', 'width':1, 'headwidth':6})\n",
    "ax.annotate('p = 1', xy=(0.0, 0.0), xytext=(0.1, 0.0), arrowprops={'color':'blue', 'width':1, 'headwidth':6})\n",
    "\n",
    "plt.xlabel('False Positive Rate')\n",
    "plt.ylabel('True Positive Rate')\n",
    "plt.show()"
   ]
  },
  {
   "cell_type": "markdown",
   "id": "94a61955",
   "metadata": {},
   "source": [
    "The plot above represents a chance model that randomly guesses labels. Notice the two arrows denoting the TP and FP values for values $p$:\n",
    "- If $p = 0$, the model predicts 1 for all observations. This means all positive values are predicted correctly but incorrectly predict negative values.\n",
    "- If $p = 1$, the model predicts 0 for all observations. This means true and false positive rates become zero. (Opposite of above statement)."
   ]
  },
  {
   "cell_type": "code",
   "execution_count": 66,
   "id": "4a385310",
   "metadata": {},
   "outputs": [],
   "source": [
    "# Plotting an ROC curve in sklearn\n",
    "from sklearn.metrics import roc_curve\n",
    "\n",
    "# We unpack the return valuese of roc_curve()\n",
    "# The variables represent our false and true positive rates and \n",
    "# the thresholds used to calculate each fpr-tpr pair\n",
    "# We also pass the true y-values and predicted y-values\n",
    "fpr, tpr, thresholds = roc_curve(y_test, pred_probabilities)"
   ]
  },
  {
   "cell_type": "code",
   "execution_count": 49,
   "id": "ae20bd7e",
   "metadata": {},
   "outputs": [
    {
     "data": {
      "image/png": "[encoded data removed]",
      "text/plain": [
       "<Figure size 640x480 with 1 Axes>"
      ]
     },
     "metadata": {},
     "output_type": "display_data"
    }
   ],
   "source": [
    "fig, ax = plt.subplots()\n",
    "\n",
    "ax.plot(x_axis, y_axis, linestyle='--', color='black')\n",
    "ax.plot(fpr, tpr)\n",
    "\n",
    "plt.xlabel('False Positive Rate')\n",
    "plt.ylabel('True Positive Rate')\n",
    "plt.show()"
   ]
  },
  {
   "cell_type": "markdown",
   "id": "16886c34",
   "metadata": {},
   "source": [
    "##### ROC Area Under the Curve (AUC)\n",
    "ROC AUC is another performance metric that measures a model's ability to tell apart positive and negative classes. The AUC is a scalar value between 0 and 1. A higher ROC AUC score (closer to 1) indicates a well-performing model whereas a score of 0.5 indicates a random guess."
   ]
  },
  {
   "cell_type": "code",
   "execution_count": 57,
   "id": "24bdd333",
   "metadata": {},
   "outputs": [
    {
     "name": "stdout",
     "output_type": "stream",
     "text": [
      "0.752234993614304\n",
      "0.504469987228608\n"
     ]
    }
   ],
   "source": [
    "# Calculating ROC AUC\n",
    "from sklearn.metrics import roc_auc_score\n",
    "\n",
    "# simply pass the true and predicted values\n",
    "roc_auc = roc_auc_score(y_test, pred_probabilities)\n",
    "pct_improvement = (roc_auc - 0.5) / (1.0 - 0.5)\n",
    "print(roc_auc)\n",
    "print(pct_improvement)"
   ]
  },
  {
   "cell_type": "markdown",
   "id": "da80cb08",
   "metadata": {},
   "source": [
    "This shows that our logistic regression model got an ROC AUC score of $0.75$ which is a $50\\%$ improvement over a model that makes random predictions."
   ]
  },
  {
   "cell_type": "markdown",
   "id": "10cf32c8",
   "metadata": {},
   "source": [
    "##### Youden's J Statistic\n",
    "Suppose we want to find the best probability threshold for our logistic regression model. We can use Youden's J statistic. It is defined as follows:\n",
    "\n",
    "$ J = TPR - FPR$\n",
    "\n",
    "Where:\n",
    "- $J$ is the statistic to be maximized (best trade-off between senstivity and specificity)\n",
    "- $TPR$ are true positives; and\n",
    "- $FPR$ are the false positives\n",
    "\n",
    "*Note that other sources may define Youden's J differently. In machine learning, it's usually defined the way it is.*\n",
    "\n",
    "The statistic $J$ is maximized when $TPR$ is high and $FPR$ is low."
   ]
  },
  {
   "cell_type": "code",
   "execution_count": 67,
   "id": "239faa5f",
   "metadata": {},
   "outputs": [
    {
     "data": {
      "text/plain": [
       "0.35512055127341985"
      ]
     },
     "execution_count": 67,
     "metadata": {},
     "output_type": "execute_result"
    }
   ],
   "source": [
    "# Get the j-scores from the previous roc_curve() call\n",
    "j_scores =  tpr - fpr\n",
    "\n",
    "# We find the max j-score value and get its index \n",
    "# from the j-score array. Now, since the j_score array\n",
    "# is symmetric to the threshold array, we use that index\n",
    "# to retrieve the best threshold value in the threshold array\n",
    "best_threshold = thresholds[np.argmax(j_scores)]\n",
    "best_threshold"
   ]
  }
 ],
 "metadata": {
  "kernelspec": {
   "display_name": "base",
   "language": "python",
   "name": "python3"
  },
  "language_info": {
   "codemirror_mode": {
    "name": "ipython",
    "version": 3
   },
   "file_extension": ".py",
   "mimetype": "text/x-python",
   "name": "python",
   "nbconvert_exporter": "python",
   "pygments_lexer": "ipython3",
   "version": "3.12.7"
  }
 },
 "nbformat": 4,
 "nbformat_minor": 5
}
