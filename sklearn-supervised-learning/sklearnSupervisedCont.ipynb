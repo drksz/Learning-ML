{
 "cells": [
  {
   "cell_type": "markdown",
   "id": "26b9c3c0",
   "metadata": {},
   "source": [
    "# Supervised Learning with scikit-learn (cont.)"
   ]
  },
  {
   "cell_type": "markdown",
   "id": "a05b3ded",
   "metadata": {},
   "source": [
    "### CROSS VALIDATION\n",
    "Cross-validation (CV) is an iterative process in which each datapoint or cluster of data is given an equal chance at becoming both a training and testing point for the model.\n",
    "\n",
    "##### Why Cross Validation?\n",
    "Say you have created and fitted a linear regression model and decide to evaluate its $R^2$ metric. Such metrics are heavily dependent on how the data is split during the train and test-splitting. Due to the random nature of the splitting of data, that $R^2$ metric may not be representative of the model's ability to generalize to unseen data. The solution to this is applying cross-validation which iteratively splits data into training and testing sets multiple times.\n",
    "\n",
    "\n",
    "Cross-validation works by splitting the data into **folds**. One such fold is designated as test data and the rest as training data. This process is done in an iteration known as a **split**. For each split, the training and testing folds are updated. This ensures that the model has a different set of training and testing folds for each split iteration. At each step, the metric of interest (such as $R^2$) is also calculated. That is, if there have been $n$ splits, then there will be $n$ metrics computed as well. From these values we can compute statistics (e.g. mean, median, confidence intervals, etc.)\n",
    "\n",
    "CV done with $k$ number of folds is called $k$-fold cross-validation. Also, note that **as $k$ increases**, CV becomes more **computationally expensive**.\n"
   ]
  },
  {
   "cell_type": "code",
   "execution_count": 9,
   "id": "51743f04",
   "metadata": {},
   "outputs": [],
   "source": [
    "import pandas as pd \n",
    "import numpy as np\n",
    "from sklearn.linear_model import LinearRegression\n",
    "\n",
    "# the KFold class and cross_val_scorer method are required for CV\n",
    "from sklearn.model_selection import cross_val_score, KFold"
   ]
  },
  {
   "cell_type": "code",
   "execution_count": 10,
   "id": "0701b087",
   "metadata": {},
   "outputs": [
    {
     "data": {
      "text/html": [
       "<div>\n",
       "<style scoped>\n",
       "    .dataframe tbody tr th:only-of-type {\n",
       "        vertical-align: middle;\n",
       "    }\n",
       "\n",
       "    .dataframe tbody tr th {\n",
       "        vertical-align: top;\n",
       "    }\n",
       "\n",
       "    .dataframe thead th {\n",
       "        text-align: right;\n",
       "    }\n",
       "</style>\n",
       "<table border=\"1\" class=\"dataframe\">\n",
       "  <thead>\n",
       "    <tr style=\"text-align: right;\">\n",
       "      <th></th>\n",
       "      <th>pregnancies</th>\n",
       "      <th>glucose</th>\n",
       "      <th>diastolic</th>\n",
       "      <th>triceps</th>\n",
       "      <th>insulin</th>\n",
       "      <th>bmi</th>\n",
       "      <th>dpf</th>\n",
       "      <th>age</th>\n",
       "      <th>diabetes</th>\n",
       "    </tr>\n",
       "  </thead>\n",
       "  <tbody>\n",
       "    <tr>\n",
       "      <th>0</th>\n",
       "      <td>6</td>\n",
       "      <td>148</td>\n",
       "      <td>72</td>\n",
       "      <td>35</td>\n",
       "      <td>0</td>\n",
       "      <td>33.6</td>\n",
       "      <td>0.627</td>\n",
       "      <td>50</td>\n",
       "      <td>1</td>\n",
       "    </tr>\n",
       "    <tr>\n",
       "      <th>1</th>\n",
       "      <td>1</td>\n",
       "      <td>85</td>\n",
       "      <td>66</td>\n",
       "      <td>29</td>\n",
       "      <td>0</td>\n",
       "      <td>26.6</td>\n",
       "      <td>0.351</td>\n",
       "      <td>31</td>\n",
       "      <td>0</td>\n",
       "    </tr>\n",
       "    <tr>\n",
       "      <th>2</th>\n",
       "      <td>8</td>\n",
       "      <td>183</td>\n",
       "      <td>64</td>\n",
       "      <td>0</td>\n",
       "      <td>0</td>\n",
       "      <td>23.3</td>\n",
       "      <td>0.672</td>\n",
       "      <td>32</td>\n",
       "      <td>1</td>\n",
       "    </tr>\n",
       "    <tr>\n",
       "      <th>3</th>\n",
       "      <td>1</td>\n",
       "      <td>89</td>\n",
       "      <td>66</td>\n",
       "      <td>23</td>\n",
       "      <td>94</td>\n",
       "      <td>28.1</td>\n",
       "      <td>0.167</td>\n",
       "      <td>21</td>\n",
       "      <td>0</td>\n",
       "    </tr>\n",
       "    <tr>\n",
       "      <th>4</th>\n",
       "      <td>0</td>\n",
       "      <td>137</td>\n",
       "      <td>40</td>\n",
       "      <td>35</td>\n",
       "      <td>168</td>\n",
       "      <td>43.1</td>\n",
       "      <td>2.288</td>\n",
       "      <td>33</td>\n",
       "      <td>1</td>\n",
       "    </tr>\n",
       "  </tbody>\n",
       "</table>\n",
       "</div>"
      ],
      "text/plain": [
       "   pregnancies  glucose  diastolic  triceps  insulin   bmi    dpf  age  \\\n",
       "0            6      148         72       35        0  33.6  0.627   50   \n",
       "1            1       85         66       29        0  26.6  0.351   31   \n",
       "2            8      183         64        0        0  23.3  0.672   32   \n",
       "3            1       89         66       23       94  28.1  0.167   21   \n",
       "4            0      137         40       35      168  43.1  2.288   33   \n",
       "\n",
       "   diabetes  \n",
       "0         1  \n",
       "1         0  \n",
       "2         1  \n",
       "3         0  \n",
       "4         1  "
      ]
     },
     "execution_count": 10,
     "metadata": {},
     "output_type": "execute_result"
    }
   ],
   "source": [
    "# Using the same womens' health dataset\n",
    "womens_health = pd.read_csv('../Data/diabetes_clean.csv')\n",
    "womens_health.head()"
   ]
  },
  {
   "cell_type": "code",
   "execution_count": null,
   "id": "05f70ba9",
   "metadata": {},
   "outputs": [],
   "source": [
    "# Setting up multiple linear regression \n",
    "predictors_X = womens_health.drop('glucose', axis=1).values\n",
    "target_y = womens_health['glucose'].values\n",
    "\n",
    "# Create the CV generator\n",
    "folds = KFold(n_splits=6, shuffle=True, random_state=12) # Default n_splits is 5. We want 6 folds so we use 6 splits\n",
    "\n",
    "glc_reg = LinearRegression()\n",
    "\n",
    "# Get the results of the cross-validation\n",
    "# Pass the model, predictors, and the CV generator\n",
    "cv_result = cross_val_score(glc_reg, predictors_X, target_y, cv=folds)\n",
    "\n",
    "# Note that the score reported will be R^2 since it is the default score for linear regression"
   ]
  },
  {
   "cell_type": "code",
   "execution_count": 12,
   "id": "6788040b",
   "metadata": {},
   "outputs": [
    {
     "name": "stdout",
     "output_type": "stream",
     "text": [
      "[0.373619   0.27942465 0.38496821 0.33442763 0.24902435 0.29531594]\n"
     ]
    }
   ],
   "source": [
    "# Printing the R^2 scores from cross validation\n",
    "print(cv_result)"
   ]
  },
  {
   "cell_type": "markdown",
   "id": "2ca0689d",
   "metadata": {},
   "source": [
    "We can use the scores we've obtained to calculated statistics such as mean score, standard deviation, and the 95% confidence interval."
   ]
  },
  {
   "cell_type": "code",
   "execution_count": 13,
   "id": "e75c4c4f",
   "metadata": {},
   "outputs": [
    {
     "name": "stdout",
     "output_type": "stream",
     "text": [
      "CV Average R^2: 0.3194632957255576\n",
      "CV R^2 stddev.: 0.04932122304665104\n",
      "Score confidence interval: [0.25282439 0.38354956]\n"
     ]
    }
   ],
   "source": [
    "print(f'CV Average R^2: {np.mean(cv_result)}\\nCV R^2 stddev.: {np.std(cv_result)}')\n",
    "print(f'Score confidence interval: {np.quantile(cv_result, [0.025, 0.975])}')"
   ]
  },
  {
   "cell_type": "markdown",
   "id": "fae3587e",
   "metadata": {},
   "source": [
    "### REGULARIZING A LINEAR REGRESSION MODEL\n",
    "\n",
    "Recall that a linear regression model, like all other ML models, aims to minimize a loss function. That is, by choosing a coefficient $a$ (slope) and $b$ (intercept). However, large coefficients may introduce model overfit. Regularization is done in order to penalize such coefficients. Below are the types of regularized regressions.\n",
    "\n",
    "\n",
    "##### Ridge Regression\n",
    "$J(\\beta) = SSE + \\alpha \\cdot \\sum_{i=1}^{n} {\\beta_i}^2$\n",
    "\n",
    "Where:\n",
    "- J($\\beta$):   &ensp;&ensp;&ensp; the cost/objective function (function we are minimizing)\n",
    "- $SSE$:    &ensp;&ensp;&ensp;the Sum of Squared Errors \n",
    "- $\\alpha$:      &ensp;&ensp;&ensp;&ensp;&ensp;the regularization strength (hyperparameter)\n",
    "- $n$:          &ensp;&ensp;&ensp;&ensp;&ensp;number of observations\n",
    "- $\\beta$:    &ensp;&ensp;&ensp;&ensp;&ensp;model coefficients/parameters (weights assigned to each feature)\n",
    "- $\\sum_{i=1}^{n} {\\beta_i}^2$:    &ensp;&ensp;the L2 penalty term (penalizes large coefficients; squares and sums them. Also ensures penalty is positive.)\n",
    "\n",
    "\n",
    "                                                                                                                                                    \n",
    "\n",
    "Intuitively, the L2 penalty somewhat tries to shrink large coefficients towards zero (but rarely exactly zero).\n",
    "\n",
    "\n",
    "\n",
    "In ridge regression, our aim is to pick the best $\\alpha$ for which our model performs best. Note that $\\alpha$ controls model complexity and a value of $\\alpha = 0$ reduces the expression above into Ordinary Least Squares (OLS), since the regularization term disappears. Thus, a zero value for $\\alpha$ may lead to overfitting while a very high value may lead to underfitting. \n",
    "\n",
    "\n",
    "Ridge regression is implemented in scikit-learn as shown below."
   ]
  },
  {
   "cell_type": "code",
   "execution_count": 25,
   "id": "0a7e71ab",
   "metadata": {},
   "outputs": [],
   "source": [
    "# Using the womens' health dataset. This time creating a train-test split\n",
    "from sklearn.model_selection import train_test_split\n",
    "\n",
    "X_train, X_test, y_train, y_test = train_test_split(predictors_X, target_y, test_size=0.3, random_state=10)"
   ]
  },
  {
   "cell_type": "code",
   "execution_count": 33,
   "id": "bf732351",
   "metadata": {},
   "outputs": [
    {
     "name": "stdout",
     "output_type": "stream",
     "text": [
      "[0.2190350811222812, 0.21922962983903327, 0.2198428652237806, 0.19110380340910904, 0.11116010152198696]\n",
      "[0.3799570054029793, 0.37994592740390143, 0.3790149197475887, 0.35160272462728603, 0.2864818449978622]\n"
     ]
    }
   ],
   "source": [
    "# Import the Ridge class\n",
    "from sklearn.linear_model import Ridge\n",
    "\n",
    "# In order to demonstrate the impact of varying values of alpha\n",
    "# we iterate over different possible values for it and store the corresponding scores\n",
    "test_scores = []\n",
    "train_scores = []\n",
    "alpha_vals = [0.1, 1.0, 10.0, 100.0, 1000.0]   # alpha values set to float since Ridge expects alpha of type float\n",
    "\n",
    "for val in alpha_vals:\n",
    "    ridge_mdl = Ridge(alpha=val)\n",
    "    ridge_mdl.fit(X_train, y_train)      \n",
    "    train_scores.append(ridge_mdl.score(X_train, y_train))\n",
    "    test_scores.append(ridge_mdl.score(X_test, y_test))\n",
    "\n",
    "print(test_scores)\n",
    "print(train_scores)"
   ]
  },
  {
   "cell_type": "markdown",
   "id": "b16bc4a3",
   "metadata": {},
   "source": [
    "Notice that the best $R^2$ possible was obtained with $\\alpha = 10$. Also, note that $R_{train}^2 > R_{test}^2$ at low alpha values indicate model overfit. This example, however, is only to show how ridge regression is applied."
   ]
  },
  {
   "cell_type": "markdown",
   "id": "773e0579",
   "metadata": {},
   "source": [
    "##### Lasso Regression\n",
    "\n",
    "$J(\\beta) = SSE + \\alpha \\cdot \\sum_{j=1}^{p} |\\beta_j|$\n",
    "\n",
    "Where:\n",
    "- $p$: &ensp;&ensp;number of features\n",
    "- $\\sum_{j=1}^{p} |\\beta_j|$:    &ensp;&ensp;the L1 penalty term (uses absolute value; non-differentiable at $x = 0$)\n",
    "\n",
    "In contrast to L2 penalization, the L1 penalty is capable of shrinking coefficients of less important features to zero at high $\\alpha$ values. Features that have not been shrunk to zero are selected by the Lasso algorithm.\n",
    "\n",
    "Also, since the L1 term of lasso regression iterates over features, it is best used when some/many of the features present are irrelevant. The L2 term iterates, on the other hand, is best used when most features are useful as it sums with respect to all observations $n$.\n",
    "\n",
    "Lasso regression is implemented below."
   ]
  },
  {
   "cell_type": "code",
   "execution_count": 32,
   "id": "51d883aa",
   "metadata": {},
   "outputs": [
    {
     "name": "stdout",
     "output_type": "stream",
     "text": [
      "[0.22073468508387462, 0.22275653631054781, 0.09204567122971441, 0.0886150752305579, 0.038280697634941685]\n",
      "[0.37983244992172027, 0.374388344348069, 0.26192198363079244, 0.16891240104249805, 0.060380045884567246]\n"
     ]
    }
   ],
   "source": [
    "# Import the Lasso class\n",
    "from sklearn.linear_model import Lasso\n",
    "\n",
    "test_scores = []\n",
    "train_scores = []\n",
    "# Implementation is similar to ridge regression\n",
    "for val in alpha_vals:\n",
    "    lasso_mdl = Lasso(alpha=val)\n",
    "    lasso_mdl.fit(X_train, y_train)\n",
    "    train_scores.append(lasso_mdl.score(X_train,y_train))\n",
    "    test_scores.append(lasso_mdl.score(X_test, y_test))\n",
    "\n",
    "print(test_scores)\n",
    "print(train_scores)"
   ]
  },
  {
   "cell_type": "markdown",
   "id": "67383ba0",
   "metadata": {},
   "source": [
    "Observe that for high $\\alpha$ values result in absurdly low $R^2$. Also, the best obtained test score is achieved with $\\alpha = 1$. Overfitting is once again observed since $R_{train}^2 > R_{test}^2$ for this instance of Lasso regression.\n",
    "\n",
    "\n",
    "##### Lasso for Feature Selection\n",
    "Recall earlier that the Lasso algorithm can select important features in a dataset. That is, those features that are not shrunk to zero. Here is a visualization showing how Lasso works on the coefficients for each feature in the womens' health dataset. "
   ]
  },
  {
   "cell_type": "code",
   "execution_count": 39,
   "id": "3945f79d",
   "metadata": {},
   "outputs": [
    {
     "data": {
      "image/png": "[encoded data removed]",
      "text/plain": [
       "<Figure size 640x480 with 1 Axes>"
      ]
     },
     "metadata": {},
     "output_type": "display_data"
    }
   ],
   "source": [
    "# Using womens' health dataset again\n",
    "feature_names = womens_health.drop('glucose', axis=1).columns   \n",
    "lasso_mdl = Lasso(alpha=0.1)   # Setting alpha to 0.1 for now\n",
    "\n",
    "# Fits the model to the data and extracts the coefficients using .coef_\n",
    "feature_coefs = lasso_mdl.fit(predictors_X, target_y).coef_\n",
    "\n",
    "# Visualizing the coefficients\n",
    "import matplotlib.pyplot as plt\n",
    "plt.bar(feature_names, feature_coefs)\n",
    "plt.xticks(rotation=45)\n",
    "plt.show()"
   ]
  },
  {
   "cell_type": "markdown",
   "id": "93c71962",
   "metadata": {},
   "source": [
    "It is shown that the feature `diabetes`, containing binary values, is the most important predictor for the `blood_glucose` target variable."
   ]
  }
 ],
 "metadata": {
  "kernelspec": {
   "display_name": "base",
   "language": "python",
   "name": "python3"
  },
  "language_info": {
   "codemirror_mode": {
    "name": "ipython",
    "version": 3
   },
   "file_extension": ".py",
   "mimetype": "text/x-python",
   "name": "python",
   "nbconvert_exporter": "python",
   "pygments_lexer": "ipython3",
   "version": "3.12.7"
  }
 },
 "nbformat": 4,
 "nbformat_minor": 5
}
